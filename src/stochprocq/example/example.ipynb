{
 "cells": [
  {
   "cell_type": "markdown",
   "id": "0665ed50",
   "metadata": {},
   "source": [
    "# Example epsilon-machine implementation\n",
    "\n",
    "Here we are considering a simple classical model: uniform renewal process. There the number of states $N$ is chosen to be $3$.\n",
    "\n",
    "![Epsilon-machine](Renewal.png)"
   ]
  },
  {
   "cell_type": "code",
   "execution_count": 1,
   "id": "68e2ea65",
   "metadata": {},
   "outputs": [],
   "source": [
    "import numpy as np\n",
    "\n",
    "from stochprocq import get_uniform_renewal\n",
    "from stochprocq.Models.renewal import RenewalProcess"
   ]
  },
  {
   "cell_type": "markdown",
   "id": "c4f4b57d",
   "metadata": {},
   "source": [
    "The uniform renewal process is provided in the `stochprocq.Models` module.\n",
    "\n",
    "**Note**: The number of states is `len(probs) + 1`."
   ]
  },
  {
   "cell_type": "code",
   "execution_count": 2,
   "id": "3e5b7f5e",
   "metadata": {},
   "outputs": [
    {
     "name": "stdout",
     "output_type": "stream",
     "text": [
      "The probability of tick (output 1) at each memory state: [0.33333333333333326, 0.5, 1]\n",
      "The stationary distribution of the memory states are: [0.5        0.33333333 0.16666667]\n"
     ]
    }
   ],
   "source": [
    "model = get_uniform_renewal(2) # 3 causal states\n",
    "\n",
    "print(f'The probability of tick (output 1) at each memory state: {[1-p for p in model.probs] + [1]}')\n",
    "\n",
    "print(f'The stationary distribution of the memory states are: {model.steady_state}')"
   ]
  },
  {
   "cell_type": "markdown",
   "id": "5aba0e2e",
   "metadata": {},
   "source": [
    "To generate the stationary distribution of the outputs given a fixed length, we can do:"
   ]
  },
  {
   "cell_type": "code",
   "execution_count": 3,
   "id": "ce5ae846",
   "metadata": {},
   "outputs": [
    {
     "name": "stdout",
     "output_type": "stream",
     "text": [
      "[0.         0.33333333 0.22222222 0.11111111 0.11111111 0.11111111\n",
      " 0.07407407 0.03703704]\n"
     ]
    }
   ],
   "source": [
    "dists = model.gen_dists(3) # distribution of 3 steps outputs started from each causal state\n",
    "\n",
    "# In the experiment we always start from the 0 state:\n",
    "p_dist = dists[0]\n",
    "print(p_dist)"
   ]
  },
  {
   "cell_type": "code",
   "execution_count": 4,
   "id": "4232c443",
   "metadata": {},
   "outputs": [
    {
     "name": "stdout",
     "output_type": "stream",
     "text": [
      "model.prob_seq('1', past='1') = np.float64(0.33333333333333326)\n",
      "model.prob_seq('01', past='1') = np.float64(0.33333333333333337)\n",
      "model.prob_seq('001', past='1') = np.float64(0.33333333333333337)\n"
     ]
    }
   ],
   "source": [
    "# First let's see the true probabilities of reset after k steps:\n",
    "\n",
    "# print(model.prob_seq('1', np.array([1.,0,0]))) # either specify the initial distribution\n",
    "print(f'{model.prob_seq('1', past='1') = }') # or the past outputs, where '1' means the last output is 1, and the process is reset to state 0.\n",
    "print(f'{model.prob_seq('01', past='1') = }')\n",
    "print(f'{model.prob_seq('001', past='1') = }')"
   ]
  },
  {
   "cell_type": "markdown",
   "id": "835666a8",
   "metadata": {},
   "source": [
    "Now we assume in experiment we have measured the probabilities of reset after k steps starting from the 0 state:\n",
    "\n",
    "`prob(1) = 0.37, prob(01) = 0.32, prob(001) = 0.31`"
   ]
  },
  {
   "cell_type": "code",
   "execution_count": 5,
   "id": "ac491753",
   "metadata": {},
   "outputs": [
    {
     "name": "stdout",
     "output_type": "stream",
     "text": [
      "Inferred probs of emitting 1 at each causal state: [0.37       0.50793651 1.        ]\n"
     ]
    }
   ],
   "source": [
    "# Reset probabilities (emitting 1) after k steps starting from state 0 are:\n",
    "q_emit = np.array([0.37, 0.32, 0.31])\n",
    "\n",
    "# probability of emitting 0 at each causal state:\n",
    "q_survive_st = np.zeros_like(q_emit)\n",
    "q_survive_st[0] = q_emit[0]\n",
    "for i in range(1, len(q_emit)):\n",
    "    q_survive_st[i] = (q_emit[i] / np.prod(1 - q_survive_st[:i]))\n",
    "\n",
    "print(f'Inferred probs of emitting 1 at each causal state: {q_survive_st}')\n"
   ]
  },
  {
   "cell_type": "markdown",
   "id": "74bd7c14",
   "metadata": {},
   "source": [
    "Since in the quantum model, we also hard reset the memory state to 0 after output 1, it also described by a renewal process."
   ]
  },
  {
   "cell_type": "code",
   "execution_count": 6,
   "id": "601a2b47",
   "metadata": {},
   "outputs": [
    {
     "name": "stdout",
     "output_type": "stream",
     "text": [
      "distribution of 3 steps outputs started from state 0:\n",
      "[0.       0.31     0.2016   0.1184   0.1147   0.1184   0.086247 0.050653]\n",
      "compare with original model:\n",
      "[0.         0.33333333 0.22222222 0.11111111 0.11111111 0.11111111\n",
      " 0.07407407 0.03703704]\n"
     ]
    }
   ],
   "source": [
    "q_model = RenewalProcess([1-q for q in q_survive_st[:-1]]) # the last state always emit 1\n",
    "print(f'distribution of 3 steps outputs started from state 0:\\n{q_model.gen_dists(3)[0]}')\n",
    "print(f'compare with original model:\\n{model.gen_dists(3)[0]}')"
   ]
  },
  {
   "cell_type": "markdown",
   "id": "850eaaf5",
   "metadata": {},
   "source": [
    "This model reproduces the same statistics as the \"quantum experiment\":"
   ]
  },
  {
   "cell_type": "code",
   "execution_count": 7,
   "id": "adc15f7d",
   "metadata": {},
   "outputs": [
    {
     "name": "stdout",
     "output_type": "stream",
     "text": [
      "q_model.prob_seq('1', past='1') = np.float64(0.37)\n",
      "q_model.prob_seq('01', past='1') = np.float64(0.32)\n",
      "q_model.prob_seq('001', past='1') = np.float64(0.31)\n"
     ]
    }
   ],
   "source": [
    "print(f'{q_model.prob_seq('1', past='1') = }') # or the past outputs, where '1' means the last output is 1, and the process is reset to state 0.\n",
    "print(f'{q_model.prob_seq('01', past='1') = }')\n",
    "print(f'{q_model.prob_seq('001', past='1') = }')"
   ]
  },
  {
   "cell_type": "code",
   "execution_count": 8,
   "id": "8b9b1873",
   "metadata": {},
   "outputs": [
    {
     "name": "stdout",
     "output_type": "stream",
     "text": [
      "Average KL divergence rate between the two models: 0.0025561495292130577\n"
     ]
    }
   ],
   "source": [
    "from stochprocq.measure import eval_diverge\n",
    "\n",
    "p_dist = model.gen_dists(4)[0]\n",
    "q_dist = q_model.gen_dists(4)[0]\n",
    "\n",
    "ave_kl_div_rate = eval_diverge(p_dist, q_dist, his_steps=3)\n",
    "print(f'Average KL divergence rate between the two models: {ave_kl_div_rate}')"
   ]
  },
  {
   "cell_type": "markdown",
   "id": "0a5cb6c6",
   "metadata": {},
   "source": [
    "The minimal divergence rate achievable by a classical model with 2-dimensional memory is:"
   ]
  },
  {
   "cell_type": "code",
   "execution_count": 10,
   "id": "5cfab317",
   "metadata": {},
   "outputs": [
    {
     "name": "stdout",
     "output_type": "stream",
     "text": [
      "The minimal divergence rate achievable by a classical model with 2-dimensional memory is:\n",
      "0.03145364592347788\n",
      "which is larger than the \"quantum model\" we artificially assigned:\n",
      "0.0025561495292130577\n"
     ]
    }
   ],
   "source": [
    "classical_bd = model.classical_bd(4,target_dim=2)\n",
    "print(f'The minimal divergence rate achievable by a classical model with 2-dimensional memory is:\\n{classical_bd}')\n",
    "print(f'which is larger than the \"quantum model\" we artificially assigned:\\n{ave_kl_div_rate}')"
   ]
  },
  {
   "cell_type": "code",
   "execution_count": null,
   "id": "84c6ea30",
   "metadata": {},
   "outputs": [],
   "source": []
  }
 ],
 "metadata": {
  "kernelspec": {
   "display_name": "stoch",
   "language": "python",
   "name": "python3"
  },
  "language_info": {
   "codemirror_mode": {
    "name": "ipython",
    "version": 3
   },
   "file_extension": ".py",
   "mimetype": "text/x-python",
   "name": "python",
   "nbconvert_exporter": "python",
   "pygments_lexer": "ipython3",
   "version": "3.12.11"
  }
 },
 "nbformat": 4,
 "nbformat_minor": 5
}
